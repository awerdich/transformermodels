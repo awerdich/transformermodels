{
 "cells": [
  {
   "cell_type": "code",
   "execution_count": 1,
   "id": "bd16dd6e-8a2b-42f7-a2bc-d7f187e4514d",
   "metadata": {},
   "outputs": [
    {
     "data": {
      "text/html": [
       "<style>.container { width:100% !important; }</style>"
      ],
      "text/plain": [
       "<IPython.core.display.HTML object>"
      ]
     },
     "metadata": {},
     "output_type": "display_data"
    },
    {
     "name": "stdout",
     "output_type": "stream",
     "text": [
      "Package version: 0.0.post1.dev3+g8362a6c.d20240713\n",
      "PyTorch version: 2.3.1+cu121\n"
     ]
    }
   ],
   "source": [
    "import os\n",
    "import numpy as np\n",
    "import pandas as pd\n",
    "from matplotlib import pyplot as plt\n",
    "import seaborn as sn\n",
    "from pprint import pprint\n",
    "import textwrap\n",
    "import pickle\n",
    "\n",
    "# Appearance of the Notebook\n",
    "from IPython.display import display, HTML\n",
    "display(HTML(\"<style>.container { width:100% !important; }</style>\"))\n",
    "\n",
    "# PyTorch\n",
    "import torch\n",
    "\n",
    "# Hugging Face \n",
    "from transformers import pipeline, set_seed\n",
    "\n",
    "# Import this module with autoreload\n",
    "%load_ext autoreload\n",
    "%autoreload 2\n",
    "import transformermodels as tm\n",
    "print(f'Package version: {tm.__version__}')\n",
    "print(f'PyTorch version: {torch.__version__}')"
   ]
  },
  {
   "cell_type": "code",
   "execution_count": 2,
   "id": "d798d945-43c7-43e6-a843-fa99f19a2631",
   "metadata": {},
   "outputs": [
    {
     "name": "stdout",
     "output_type": "stream",
     "text": [
      "CUDA available: True\n",
      "Number of GPUs found:  1\n",
      "Current device ID:     0\n",
      "GPU device name:       NVIDIA GeForce RTX 3070 Laptop GPU\n",
      "CUDNN version:         8902\n",
      "\n",
      "Device for model training/inference: cuda:0\n"
     ]
    }
   ],
   "source": [
    "# GPU checks\n",
    "is_cuda = torch.cuda.is_available()\n",
    "print(f'CUDA available: {is_cuda}')\n",
    "print(f'Number of GPUs found:  {torch.cuda.device_count()}')\n",
    "\n",
    "if is_cuda:\n",
    "    print(f'Current device ID:     {torch.cuda.current_device()}')\n",
    "    print(f'GPU device name:       {torch.cuda.get_device_name(0)}')\n",
    "    print(f'CUDNN version:         {torch.backends.cudnn.version()}')\n",
    "    device_str = 'cuda:0'\n",
    "    torch.cuda.empty_cache() \n",
    "else:\n",
    "    device_str = 'cpu'\n",
    "device = torch.device(device_str)\n",
    "print()\n",
    "print(f'Device for model training/inference: {device}')"
   ]
  },
  {
   "cell_type": "code",
   "execution_count": 5,
   "id": "96ce8706-ff64-4576-87e3-5ec179646905",
   "metadata": {},
   "outputs": [],
   "source": [
    "# Helper functions\n",
    "def wrap(x):\n",
    "    return textwrap.fill(x, replace_whitespace=False, fix_sentence_endings=True)\n",
    "\n",
    "# Directories\n",
    "data_dir = os.path.join(os.environ.get('HOME'), 'data', 'transformers')\n",
    "textdata = os.path.join(data_dir, 'bbc_text_cls.csv')"
   ]
  },
  {
   "cell_type": "code",
   "execution_count": 7,
   "id": "515940ff-e946-47f2-a274-fbcdea492df2",
   "metadata": {},
   "outputs": [
    {
     "data": {
      "text/html": [
       "<div>\n",
       "<style scoped>\n",
       "    .dataframe tbody tr th:only-of-type {\n",
       "        vertical-align: middle;\n",
       "    }\n",
       "\n",
       "    .dataframe tbody tr th {\n",
       "        vertical-align: top;\n",
       "    }\n",
       "\n",
       "    .dataframe thead th {\n",
       "        text-align: right;\n",
       "    }\n",
       "</style>\n",
       "<table border=\"1\" class=\"dataframe\">\n",
       "  <thead>\n",
       "    <tr style=\"text-align: right;\">\n",
       "      <th></th>\n",
       "      <th>text</th>\n",
       "      <th>labels</th>\n",
       "    </tr>\n",
       "  </thead>\n",
       "  <tbody>\n",
       "    <tr>\n",
       "      <th>0</th>\n",
       "      <td>Ad sales boost Time Warner profit\\n\\nQuarterly...</td>\n",
       "      <td>business</td>\n",
       "    </tr>\n",
       "    <tr>\n",
       "      <th>1</th>\n",
       "      <td>Dollar gains on Greenspan speech\\n\\nThe dollar...</td>\n",
       "      <td>business</td>\n",
       "    </tr>\n",
       "    <tr>\n",
       "      <th>2</th>\n",
       "      <td>Yukos unit buyer faces loan claim\\n\\nThe owner...</td>\n",
       "      <td>business</td>\n",
       "    </tr>\n",
       "    <tr>\n",
       "      <th>3</th>\n",
       "      <td>High fuel prices hit BA's profits\\n\\nBritish A...</td>\n",
       "      <td>business</td>\n",
       "    </tr>\n",
       "    <tr>\n",
       "      <th>4</th>\n",
       "      <td>Pernod takeover talk lifts Domecq\\n\\nShares in...</td>\n",
       "      <td>business</td>\n",
       "    </tr>\n",
       "  </tbody>\n",
       "</table>\n",
       "</div>"
      ],
      "text/plain": [
       "                                                text    labels\n",
       "0  Ad sales boost Time Warner profit\\n\\nQuarterly...  business\n",
       "1  Dollar gains on Greenspan speech\\n\\nThe dollar...  business\n",
       "2  Yukos unit buyer faces loan claim\\n\\nThe owner...  business\n",
       "3  High fuel prices hit BA's profits\\n\\nBritish A...  business\n",
       "4  Pernod takeover talk lifts Domecq\\n\\nShares in...  business"
      ]
     },
     "metadata": {},
     "output_type": "display_data"
    }
   ],
   "source": [
    "df = pd.read_csv(textdata)\n",
    "display(df.head())"
   ]
  },
  {
   "cell_type": "code",
   "execution_count": 19,
   "id": "51502494-c18b-4e6c-8097-e3c32b42afcb",
   "metadata": {},
   "outputs": [
    {
     "name": "stdout",
     "output_type": "stream",
     "text": [
      "Christmas sales worst since 1981\n",
      "\n",
      "UK retail sales fell in December,\n",
      "failing to meet expectations and making it by some counts the worst\n",
      "Christmas since 1981.\n",
      "\n",
      "Retail sales dropped by 1% on the month in\n",
      "December, after a 0.6% rise in November, the Office for National\n",
      "Statistics (ONS) said.  The ONS revised the annual 2004 rate of growth\n",
      "down from the 5.9% estimated in November to 3.2%. A number of\n",
      "retailers have already reported poor figures for December.  Clothing\n",
      "retailers and non-specialist stores were the worst hit with only\n",
      "internet retailers showing any significant growth, according to the\n",
      "ONS.\n",
      "\n",
      "The last time retailers endured a tougher Christmas was 23 years\n",
      "previously, when sales plunged 1.7%.\n",
      "\n",
      "The ONS echoed an earlier\n",
      "caution from Bank of England governor Mervyn King not to read too much\n",
      "into the poor December figures.  Some analysts put a positive gloss on\n",
      "the figures, pointing out that the non-seasonally-adjusted figures\n",
      "showed a performance comparable with 2003. The November-December jump\n",
      "last year was roughly comparable with recent averages, although some\n",
      "way below the serious booms seen in the 1990s.  And figures for retail\n",
      "volume outperformed measures of actual spending, an indication that\n",
      "consumers are looking for bargains, and retailers are cutting their\n",
      "prices.\n",
      "\n",
      "However, reports from some High Street retailers highlight\n",
      "the weakness of the sector.  Morrisons, Woolworths, House of Fraser,\n",
      "Marks & Spencer and Big Food all said that the festive period was\n",
      "disappointing.\n",
      "\n",
      "And a British Retail Consortium survey found that\n",
      "Christmas 2004 was the worst for 10 years.  Yet, other retailers -\n",
      "including HMV, Monsoon, Jessops, Body Shop and Tesco - reported that\n",
      "festive sales were well up on last year.  Investec chief economist\n",
      "Philip Shaw said he did not expect the poor retail figures to have any\n",
      "immediate effect on interest rates.  \"The retail sales figures are\n",
      "very weak, but as Bank of England governor Mervyn King indicated last\n",
      "night, you don't really get an accurate impression of Christmas\n",
      "trading until about Easter,\" said Mr Shaw.  \"Our view is the Bank of\n",
      "England will keep its powder dry and wait to see the big picture.\"\n"
     ]
    }
   ],
   "source": [
    "doc = df.loc[df['labels'] == 'business', 'text'].sample(random_state=42)\n",
    "print(wrap(doc.iloc[0]))"
   ]
  },
  {
   "cell_type": "code",
   "execution_count": 16,
   "id": "8b675635-ce22-441d-b1bd-662b915b236d",
   "metadata": {},
   "outputs": [
    {
     "name": "stderr",
     "output_type": "stream",
     "text": [
      "No model was supplied, defaulted to sshleifer/distilbart-cnn-12-6 and revision a4f8f3e (https://huggingface.co/sshleifer/distilbart-cnn-12-6).\n",
      "Using a pipeline without specifying a model name and revision in production is not recommended.\n"
     ]
    }
   ],
   "source": [
    "summarizer = pipeline('summarization', device=device)"
   ]
  },
  {
   "cell_type": "code",
   "execution_count": 20,
   "id": "9540dee3-ee02-4a43-9f98-652ea4ac7db8",
   "metadata": {},
   "outputs": [],
   "source": [
    "def print_summary(doc):\n",
    "  result = summarizer(doc.iloc[0].split(\"\\n\", 1)[1])\n",
    "  print(wrap(result[0]['summary_text']))"
   ]
  },
  {
   "cell_type": "code",
   "execution_count": 21,
   "id": "32335fdd-1327-44a4-99af-9e08bad0f64c",
   "metadata": {},
   "outputs": [
    {
     "name": "stdout",
     "output_type": "stream",
     "text": [
      " Retail sales dropped by 1% on the month in December, after a 0.6%\n",
      "rise in November . Clothing retailers and non-specialist stores were\n",
      "the worst hit with only internet retailers showing any significant\n",
      "growth . The last time retailers endured a tougher Christmas was 23\n",
      "years ago, when sales plunged 1.7% .\n"
     ]
    }
   ],
   "source": [
    "print_summary(doc)"
   ]
  }
 ],
 "metadata": {
  "kernelspec": {
   "display_name": "Python 3 (ipykernel)",
   "language": "python",
   "name": "python3"
  },
  "language_info": {
   "codemirror_mode": {
    "name": "ipython",
    "version": 3
   },
   "file_extension": ".py",
   "mimetype": "text/x-python",
   "name": "python",
   "nbconvert_exporter": "python",
   "pygments_lexer": "ipython3",
   "version": "3.11.8"
  }
 },
 "nbformat": 4,
 "nbformat_minor": 5
}
