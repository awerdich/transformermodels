{
 "cells": [
  {
   "cell_type": "markdown",
   "id": "aecc66c5-44be-44a3-91a8-c1a42b9bd024",
   "metadata": {},
   "source": [
    "### Fine-tuning of a sentiment analysis classification model ###\n",
    "Use AutoConfig to add the labels"
   ]
  },
  {
   "cell_type": "code",
   "execution_count": 10,
   "id": "a8c40f19-16e7-417e-9e33-d0b4a2b9d964",
   "metadata": {},
   "outputs": [
    {
     "data": {
      "text/html": [
       "<style>.container { width:100% !important; }</style>"
      ],
      "text/plain": [
       "<IPython.core.display.HTML object>"
      ]
     },
     "metadata": {},
     "output_type": "display_data"
    },
    {
     "name": "stdout",
     "output_type": "stream",
     "text": [
      "The autoreload extension is already loaded. To reload it, use:\n",
      "  %reload_ext autoreload\n",
      "Package version: 0.0.post1.dev8+gd983d5a.d20240721\n",
      "PyTorch version: 2.3.1+cu121\n"
     ]
    }
   ],
   "source": [
    "import os\n",
    "import json\n",
    "import numpy as np\n",
    "import pandas as pd\n",
    "from matplotlib import pyplot as plt\n",
    "import seaborn as sn\n",
    "from pprint import pprint\n",
    "import textwrap\n",
    "from pathlib import Path\n",
    "from pprint import pprint\n",
    "from matplotlib import pyplot as plt\n",
    "\n",
    "# Appearance of the Notebook\n",
    "from IPython.display import display, HTML\n",
    "display(HTML(\"<style>.container { width:100% !important; }</style>\"))\n",
    "\n",
    "# PyTorch\n",
    "import torch\n",
    "from torchinfo import summary\n",
    "\n",
    "# Hugging Face \n",
    "from transformers import pipeline, set_seed, AutoTokenizer\n",
    "from transformers import Trainer, TrainingArguments\n",
    "from transformers import AutoModelForSequenceClassification, AutoConfig\n",
    "\n",
    "# This HuggingFace community-driven open-source library of datasets\n",
    "from datasets import load_dataset, load_metric\n",
    "\n",
    "from sklearn.metrics import f1_score, accuracy_score, confusion_matrix\n",
    "\n",
    "# Import this module with autoreload\n",
    "%load_ext autoreload\n",
    "%autoreload 2\n",
    "import transformermodels as tm\n",
    "print(f'Package version: {tm.__version__}')\n",
    "print(f'PyTorch version: {torch.__version__}')"
   ]
  },
  {
   "cell_type": "code",
   "execution_count": 3,
   "id": "a7a29ad2-c178-4348-ae33-847ec0d20d84",
   "metadata": {},
   "outputs": [
    {
     "name": "stdout",
     "output_type": "stream",
     "text": [
      "CUDA available: True\n",
      "Number of GPUs found:  1\n",
      "Current device ID:     0\n",
      "GPU device name:       NVIDIA GeForce GTX 1080 with Max-Q Design\n",
      "CUDNN version:         8902\n",
      "\n",
      "Device for model training/inference: cuda:0\n"
     ]
    }
   ],
   "source": [
    "# GPU checks\n",
    "is_cuda = torch.cuda.is_available()\n",
    "print(f'CUDA available: {is_cuda}')\n",
    "print(f'Number of GPUs found:  {torch.cuda.device_count()}')\n",
    "\n",
    "if is_cuda:\n",
    "    print(f'Current device ID:     {torch.cuda.current_device()}')\n",
    "    print(f'GPU device name:       {torch.cuda.get_device_name(0)}')\n",
    "    print(f'CUDNN version:         {torch.backends.cudnn.version()}')\n",
    "    device_str = 'cuda:0'\n",
    "    torch.cuda.empty_cache() \n",
    "else:\n",
    "    device_str = 'cpu'\n",
    "device = torch.device(device_str)\n",
    "print()\n",
    "print(f'Device for model training/inference: {device}')"
   ]
  },
  {
   "cell_type": "code",
   "execution_count": 4,
   "id": "ffbf9236-736e-440a-beed-e16a13af8d25",
   "metadata": {},
   "outputs": [
    {
     "data": {
      "text/html": [
       "<div>\n",
       "<style scoped>\n",
       "    .dataframe tbody tr th:only-of-type {\n",
       "        vertical-align: middle;\n",
       "    }\n",
       "\n",
       "    .dataframe tbody tr th {\n",
       "        vertical-align: top;\n",
       "    }\n",
       "\n",
       "    .dataframe thead th {\n",
       "        text-align: right;\n",
       "    }\n",
       "</style>\n",
       "<table border=\"1\" class=\"dataframe\">\n",
       "  <thead>\n",
       "    <tr style=\"text-align: right;\">\n",
       "      <th></th>\n",
       "      <th>tweet_id</th>\n",
       "      <th>airline_sentiment</th>\n",
       "      <th>airline_sentiment_confidence</th>\n",
       "      <th>negativereason</th>\n",
       "      <th>negativereason_confidence</th>\n",
       "      <th>airline</th>\n",
       "      <th>airline_sentiment_gold</th>\n",
       "      <th>name</th>\n",
       "      <th>negativereason_gold</th>\n",
       "      <th>retweet_count</th>\n",
       "      <th>text</th>\n",
       "      <th>tweet_coord</th>\n",
       "      <th>tweet_created</th>\n",
       "      <th>tweet_location</th>\n",
       "      <th>user_timezone</th>\n",
       "    </tr>\n",
       "  </thead>\n",
       "  <tbody>\n",
       "    <tr>\n",
       "      <th>0</th>\n",
       "      <td>570306133677760513</td>\n",
       "      <td>neutral</td>\n",
       "      <td>1.0000</td>\n",
       "      <td>NaN</td>\n",
       "      <td>NaN</td>\n",
       "      <td>Virgin America</td>\n",
       "      <td>NaN</td>\n",
       "      <td>cairdin</td>\n",
       "      <td>NaN</td>\n",
       "      <td>0</td>\n",
       "      <td>@VirginAmerica What @dhepburn said.</td>\n",
       "      <td>NaN</td>\n",
       "      <td>2015-02-24 11:35:52 -0800</td>\n",
       "      <td>NaN</td>\n",
       "      <td>Eastern Time (US &amp; Canada)</td>\n",
       "    </tr>\n",
       "    <tr>\n",
       "      <th>1</th>\n",
       "      <td>570301130888122368</td>\n",
       "      <td>positive</td>\n",
       "      <td>0.3486</td>\n",
       "      <td>NaN</td>\n",
       "      <td>0.0</td>\n",
       "      <td>Virgin America</td>\n",
       "      <td>NaN</td>\n",
       "      <td>jnardino</td>\n",
       "      <td>NaN</td>\n",
       "      <td>0</td>\n",
       "      <td>@VirginAmerica plus you've added commercials t...</td>\n",
       "      <td>NaN</td>\n",
       "      <td>2015-02-24 11:15:59 -0800</td>\n",
       "      <td>NaN</td>\n",
       "      <td>Pacific Time (US &amp; Canada)</td>\n",
       "    </tr>\n",
       "  </tbody>\n",
       "</table>\n",
       "</div>"
      ],
      "text/plain": [
       "             tweet_id airline_sentiment  airline_sentiment_confidence  \\\n",
       "0  570306133677760513           neutral                        1.0000   \n",
       "1  570301130888122368          positive                        0.3486   \n",
       "\n",
       "  negativereason  negativereason_confidence         airline  \\\n",
       "0            NaN                        NaN  Virgin America   \n",
       "1            NaN                        0.0  Virgin America   \n",
       "\n",
       "  airline_sentiment_gold      name negativereason_gold  retweet_count  \\\n",
       "0                    NaN   cairdin                 NaN              0   \n",
       "1                    NaN  jnardino                 NaN              0   \n",
       "\n",
       "                                                text tweet_coord  \\\n",
       "0                @VirginAmerica What @dhepburn said.         NaN   \n",
       "1  @VirginAmerica plus you've added commercials t...         NaN   \n",
       "\n",
       "               tweet_created tweet_location               user_timezone  \n",
       "0  2015-02-24 11:35:52 -0800            NaN  Eastern Time (US & Canada)  \n",
       "1  2015-02-24 11:15:59 -0800            NaN  Pacific Time (US & Canada)  "
      ]
     },
     "metadata": {},
     "output_type": "display_data"
    },
    {
     "data": {
      "text/html": [
       "<div>\n",
       "<style scoped>\n",
       "    .dataframe tbody tr th:only-of-type {\n",
       "        vertical-align: middle;\n",
       "    }\n",
       "\n",
       "    .dataframe tbody tr th {\n",
       "        vertical-align: top;\n",
       "    }\n",
       "\n",
       "    .dataframe thead th {\n",
       "        text-align: right;\n",
       "    }\n",
       "</style>\n",
       "<table border=\"1\" class=\"dataframe\">\n",
       "  <thead>\n",
       "    <tr style=\"text-align: right;\">\n",
       "      <th></th>\n",
       "      <th>text</th>\n",
       "      <th>airline_sentiment</th>\n",
       "    </tr>\n",
       "  </thead>\n",
       "  <tbody>\n",
       "    <tr>\n",
       "      <th>0</th>\n",
       "      <td>@VirginAmerica What @dhepburn said.</td>\n",
       "      <td>neutral</td>\n",
       "    </tr>\n",
       "    <tr>\n",
       "      <th>1</th>\n",
       "      <td>@VirginAmerica plus you've added commercials t...</td>\n",
       "      <td>positive</td>\n",
       "    </tr>\n",
       "    <tr>\n",
       "      <th>2</th>\n",
       "      <td>@VirginAmerica I didn't today... Must mean I n...</td>\n",
       "      <td>neutral</td>\n",
       "    </tr>\n",
       "    <tr>\n",
       "      <th>3</th>\n",
       "      <td>@VirginAmerica it's really aggressive to blast...</td>\n",
       "      <td>negative</td>\n",
       "    </tr>\n",
       "    <tr>\n",
       "      <th>4</th>\n",
       "      <td>@VirginAmerica and it's a really big bad thing...</td>\n",
       "      <td>negative</td>\n",
       "    </tr>\n",
       "  </tbody>\n",
       "</table>\n",
       "</div>"
      ],
      "text/plain": [
       "                                                text airline_sentiment\n",
       "0                @VirginAmerica What @dhepburn said.           neutral\n",
       "1  @VirginAmerica plus you've added commercials t...          positive\n",
       "2  @VirginAmerica I didn't today... Must mean I n...           neutral\n",
       "3  @VirginAmerica it's really aggressive to blast...          negative\n",
       "4  @VirginAmerica and it's a really big bad thing...          negative"
      ]
     },
     "metadata": {},
     "output_type": "display_data"
    }
   ],
   "source": [
    "# Helper functions and parameters\n",
    "def wrap(x):\n",
    "    return textwrap.fill(x, replace_whitespace=False, fix_sentence_endings=True)\n",
    "\n",
    "# Directories\n",
    "data_dir = os.path.join(os.environ.get('HOME'), 'data', 'transformers')\n",
    "model_dir = os.path.join(data_dir, 'model_trained')\n",
    "Path(model_dir).mkdir(parents=True, exist_ok=True)\n",
    "# Load the HuggingFace datasets\n",
    "# Full list of datasets\n",
    "# https://huggingface.co/datasets\n",
    "# dataset = load_dataset('amazon_polarity')\n",
    "\n",
    "# The custom data set\n",
    "#!wget -nc https://lazyprogrammer.me/course_files/AirlineTweets.csv\n",
    "data_file_name = 'AirlineTweets.csv'\n",
    "data_file = os.path.join(data_dir, data_file_name)\n",
    "df_ = pd.read_csv(data_file)\n",
    "display(df_.head(2))\n",
    "\n",
    "# We only need the text and the labels\n",
    "df = df_[['text', 'airline_sentiment']]\n",
    "display(df.head())"
   ]
  },
  {
   "cell_type": "code",
   "execution_count": 5,
   "id": "0c8eace8-f803-4073-bcd0-0f04a21ee2cc",
   "metadata": {},
   "outputs": [
    {
     "data": {
      "image/png": "[encoded data removed]",
      "text/plain": [
       "<Figure size 640x480 with 1 Axes>"
      ]
     },
     "metadata": {},
     "output_type": "display_data"
    }
   ],
   "source": [
    "df['airline_sentiment'].hist()\n",
    "plt.show()\n",
    "# This is a highly imbalanced data set"
   ]
  },
  {
   "cell_type": "code",
   "execution_count": 6,
   "id": "d345873a-e79c-4d8e-9344-1431e94b6ab9",
   "metadata": {},
   "outputs": [
    {
     "name": "stdout",
     "output_type": "stream",
     "text": [
      "['neutral', 'positive', 'negative']\n",
      "{'negative': 0, 'neutral': 2, 'positive': 1}\n"
     ]
    },
    {
     "data": {
      "text/html": [
       "<div>\n",
       "<style scoped>\n",
       "    .dataframe tbody tr th:only-of-type {\n",
       "        vertical-align: middle;\n",
       "    }\n",
       "\n",
       "    .dataframe tbody tr th {\n",
       "        vertical-align: top;\n",
       "    }\n",
       "\n",
       "    .dataframe thead th {\n",
       "        text-align: right;\n",
       "    }\n",
       "</style>\n",
       "<table border=\"1\" class=\"dataframe\">\n",
       "  <thead>\n",
       "    <tr style=\"text-align: right;\">\n",
       "      <th></th>\n",
       "      <th>text</th>\n",
       "      <th>airline_sentiment</th>\n",
       "      <th>target</th>\n",
       "    </tr>\n",
       "  </thead>\n",
       "  <tbody>\n",
       "    <tr>\n",
       "      <th>0</th>\n",
       "      <td>@VirginAmerica What @dhepburn said.</td>\n",
       "      <td>neutral</td>\n",
       "      <td>2</td>\n",
       "    </tr>\n",
       "    <tr>\n",
       "      <th>1</th>\n",
       "      <td>@VirginAmerica plus you've added commercials t...</td>\n",
       "      <td>positive</td>\n",
       "      <td>1</td>\n",
       "    </tr>\n",
       "    <tr>\n",
       "      <th>2</th>\n",
       "      <td>@VirginAmerica I didn't today... Must mean I n...</td>\n",
       "      <td>neutral</td>\n",
       "      <td>2</td>\n",
       "    </tr>\n",
       "    <tr>\n",
       "      <th>3</th>\n",
       "      <td>@VirginAmerica it's really aggressive to blast...</td>\n",
       "      <td>negative</td>\n",
       "      <td>0</td>\n",
       "    </tr>\n",
       "    <tr>\n",
       "      <th>4</th>\n",
       "      <td>@VirginAmerica and it's a really big bad thing...</td>\n",
       "      <td>negative</td>\n",
       "      <td>0</td>\n",
       "    </tr>\n",
       "  </tbody>\n",
       "</table>\n",
       "</div>"
      ],
      "text/plain": [
       "                                                text airline_sentiment  target\n",
       "0                @VirginAmerica What @dhepburn said.           neutral       2\n",
       "1  @VirginAmerica plus you've added commercials t...          positive       1\n",
       "2  @VirginAmerica I didn't today... Must mean I n...           neutral       2\n",
       "3  @VirginAmerica it's really aggressive to blast...          negative       0\n",
       "4  @VirginAmerica and it's a really big bad thing...          negative       0"
      ]
     },
     "metadata": {},
     "output_type": "display_data"
    }
   ],
   "source": [
    "# Map the labelsto integers\n",
    "print(list(df['airline_sentiment'].unique()))\n",
    "# Hard-code the label mapping\n",
    "label_names = ['negative', 'positive', 'neutral']\n",
    "label_targets = [0, 1, 2]\n",
    "label_dict = dict(zip(label_names, label_targets))\n",
    "pprint(label_dict)\n",
    "\n",
    "# This is cool: we do not use apply here. Just mappings.\n",
    "df = df_[['text', 'airline_sentiment']].assign(target=df_['airline_sentiment'].map(label_dict))\n",
    "display(df.head())"
   ]
  },
  {
   "cell_type": "code",
   "execution_count": 7,
   "id": "0fd43570-fc7e-4afc-aba8-4aea11db718d",
   "metadata": {},
   "outputs": [
    {
     "data": {
      "text/html": [
       "<div>\n",
       "<style scoped>\n",
       "    .dataframe tbody tr th:only-of-type {\n",
       "        vertical-align: middle;\n",
       "    }\n",
       "\n",
       "    .dataframe tbody tr th {\n",
       "        vertical-align: top;\n",
       "    }\n",
       "\n",
       "    .dataframe thead th {\n",
       "        text-align: right;\n",
       "    }\n",
       "</style>\n",
       "<table border=\"1\" class=\"dataframe\">\n",
       "  <thead>\n",
       "    <tr style=\"text-align: right;\">\n",
       "      <th></th>\n",
       "      <th>sentence</th>\n",
       "      <th>label</th>\n",
       "    </tr>\n",
       "  </thead>\n",
       "  <tbody>\n",
       "    <tr>\n",
       "      <th>0</th>\n",
       "      <td>@VirginAmerica What @dhepburn said.</td>\n",
       "      <td>2</td>\n",
       "    </tr>\n",
       "    <tr>\n",
       "      <th>1</th>\n",
       "      <td>@VirginAmerica plus you've added commercials t...</td>\n",
       "      <td>1</td>\n",
       "    </tr>\n",
       "    <tr>\n",
       "      <th>2</th>\n",
       "      <td>@VirginAmerica I didn't today... Must mean I n...</td>\n",
       "      <td>2</td>\n",
       "    </tr>\n",
       "    <tr>\n",
       "      <th>3</th>\n",
       "      <td>@VirginAmerica it's really aggressive to blast...</td>\n",
       "      <td>0</td>\n",
       "    </tr>\n",
       "    <tr>\n",
       "      <th>4</th>\n",
       "      <td>@VirginAmerica and it's a really big bad thing...</td>\n",
       "      <td>0</td>\n",
       "    </tr>\n",
       "  </tbody>\n",
       "</table>\n",
       "</div>"
      ],
      "text/plain": [
       "                                            sentence  label\n",
       "0                @VirginAmerica What @dhepburn said.      2\n",
       "1  @VirginAmerica plus you've added commercials t...      1\n",
       "2  @VirginAmerica I didn't today... Must mean I n...      2\n",
       "3  @VirginAmerica it's really aggressive to blast...      0\n",
       "4  @VirginAmerica and it's a really big bad thing...      0"
      ]
     },
     "metadata": {},
     "output_type": "display_data"
    },
    {
     "name": "stdout",
     "output_type": "stream",
     "text": [
      "/home/andreas/data/transformers/AirlineTweets.parquet\n"
     ]
    }
   ],
   "source": [
    "# Create a simplified df\n",
    "df2 = df[['text', 'target']]\n",
    "\n",
    "# To use the \"load_dataset\" function, we need to have specific column names\n",
    "df2.columns = ['sentence', 'label']\n",
    "display(df2.head())\n",
    "\n",
    "df2_name = f'{os.path.splitext(data_file_name)[0]}.parquet'\n",
    "df2_file = os.path.join(data_dir, df2_name)\n",
    "print(df2_file)\n",
    "df2.to_parquet(df2_file)"
   ]
  },
  {
   "cell_type": "code",
   "execution_count": 8,
   "id": "71fa99a8-da4a-4d25-bc35-fc22e925589f",
   "metadata": {},
   "outputs": [
    {
     "data": {
      "application/vnd.jupyter.widget-view+json": {
       "model_id": "358fc79ff94847899cff1c017622f441",
       "version_major": 2,
       "version_minor": 0
      },
      "text/plain": [
       "Generating train split: 0 examples [00:00, ? examples/s]"
      ]
     },
     "metadata": {},
     "output_type": "display_data"
    }
   ],
   "source": [
    "# Load the .parquet file as a HuggingFace dataset\n",
    "raw_dataset = load_dataset('parquet', data_files=df2_file)\n",
    "split = raw_dataset.get('train').train_test_split(test_size=0.3, seed=42)"
   ]
  },
  {
   "cell_type": "code",
   "execution_count": 9,
   "id": "2281821b-4032-4987-a1f0-460c70003e2d",
   "metadata": {},
   "outputs": [
    {
     "data": {
      "text/plain": [
       "DatasetDict({\n",
       "    train: Dataset({\n",
       "        features: ['sentence', 'label'],\n",
       "        num_rows: 10248\n",
       "    })\n",
       "    test: Dataset({\n",
       "        features: ['sentence', 'label'],\n",
       "        num_rows: 4392\n",
       "    })\n",
       "})"
      ]
     },
     "metadata": {},
     "output_type": "display_data"
    }
   ],
   "source": [
    "display(split)"
   ]
  },
  {
   "cell_type": "code",
   "execution_count": 12,
   "id": "c4d54d96-ed02-4618-9448-a75fa7edd73e",
   "metadata": {},
   "outputs": [
    {
     "data": {
      "text/plain": [
       "DistilBertConfig {\n",
       "  \"_name_or_path\": \"distilbert-base-cased\",\n",
       "  \"activation\": \"gelu\",\n",
       "  \"architectures\": [\n",
       "    \"DistilBertForMaskedLM\"\n",
       "  ],\n",
       "  \"attention_dropout\": 0.1,\n",
       "  \"dim\": 768,\n",
       "  \"dropout\": 0.1,\n",
       "  \"hidden_dim\": 3072,\n",
       "  \"initializer_range\": 0.02,\n",
       "  \"max_position_embeddings\": 512,\n",
       "  \"model_type\": \"distilbert\",\n",
       "  \"n_heads\": 12,\n",
       "  \"n_layers\": 6,\n",
       "  \"output_past\": true,\n",
       "  \"pad_token_id\": 0,\n",
       "  \"qa_dropout\": 0.1,\n",
       "  \"seq_classif_dropout\": 0.2,\n",
       "  \"sinusoidal_pos_embds\": false,\n",
       "  \"tie_weights_\": true,\n",
       "  \"transformers_version\": \"4.42.4\",\n",
       "  \"vocab_size\": 28996\n",
       "}"
      ]
     },
     "metadata": {},
     "output_type": "display_data"
    }
   ],
   "source": [
    "# DEFINE MODEL CHECKPOINT\n",
    "checkpoint = 'distilbert-base-cased'\n",
    "\n",
    "# CONFIG\n",
    "config = AutoConfig.from_pretrained(checkpoint)\n",
    "display(config)"
   ]
  },
  {
   "cell_type": "code",
   "execution_count": 20,
   "id": "9d1f2a41-e3d6-4577-bea5-b7bd0ec55a64",
   "metadata": {},
   "outputs": [
    {
     "name": "stdout",
     "output_type": "stream",
     "text": [
      "['__annotations__',\n",
      " '__class__',\n",
      " '__delattr__',\n",
      " '__dict__',\n",
      " '__dir__',\n",
      " '__doc__',\n",
      " '__eq__',\n",
      " '__format__',\n",
      " '__ge__',\n",
      " '__getattribute__',\n",
      " '__getstate__',\n",
      " '__gt__',\n",
      " '__hash__',\n",
      " '__init__',\n",
      " '__init_subclass__',\n",
      " '__le__',\n",
      " '__lt__',\n",
      " '__module__',\n",
      " '__ne__',\n",
      " '__new__',\n",
      " '__reduce__',\n",
      " '__reduce_ex__',\n",
      " '__repr__',\n",
      " '__setattr__',\n",
      " '__sizeof__',\n",
      " '__str__',\n",
      " '__subclasshook__',\n",
      " '__weakref__',\n",
      " '_attn_implementation',\n",
      " '_attn_implementation_internal',\n",
      " '_auto_class',\n",
      " '_commit_hash',\n",
      " '_create_repo',\n",
      " '_dict_from_json_file',\n",
      " '_get_config_dict',\n",
      " '_get_files_timestamps',\n",
      " '_get_generation_defaults',\n",
      " '_has_non_default_generation_parameters',\n",
      " '_name_or_path',\n",
      " '_set_token_in_kwargs',\n",
      " '_upload_modified_files',\n",
      " 'activation',\n",
      " 'add_cross_attention',\n",
      " 'architectures',\n",
      " 'attention_dropout',\n",
      " 'attribute_map',\n",
      " 'bad_words_ids',\n",
      " 'begin_suppress_tokens',\n",
      " 'bos_token_id',\n",
      " 'chunk_size_feed_forward',\n",
      " 'cross_attention_hidden_size',\n",
      " 'decoder_start_token_id',\n",
      " 'dict_torch_dtype_to_str',\n",
      " 'dim',\n",
      " 'diversity_penalty',\n",
      " 'do_sample',\n",
      " 'dropout',\n",
      " 'early_stopping',\n",
      " 'encoder_no_repeat_ngram_size',\n",
      " 'eos_token_id',\n",
      " 'exponential_decay_length_penalty',\n",
      " 'finetuning_task',\n",
      " 'forced_bos_token_id',\n",
      " 'forced_eos_token_id',\n",
      " 'from_dict',\n",
      " 'from_json_file',\n",
      " 'from_pretrained',\n",
      " 'get_config_dict',\n",
      " 'hidden_dim',\n",
      " 'id2label',\n",
      " 'initializer_range',\n",
      " 'is_composition',\n",
      " 'is_decoder',\n",
      " 'is_encoder_decoder',\n",
      " 'label2id',\n",
      " 'length_penalty',\n",
      " 'max_length',\n",
      " 'max_position_embeddings',\n",
      " 'min_length',\n",
      " 'model_type',\n",
      " 'n_heads',\n",
      " 'n_layers',\n",
      " 'name_or_path',\n",
      " 'no_repeat_ngram_size',\n",
      " 'num_beam_groups',\n",
      " 'num_beams',\n",
      " 'num_labels',\n",
      " 'num_return_sequences',\n",
      " 'output_attentions',\n",
      " 'output_hidden_states',\n",
      " 'output_past',\n",
      " 'output_scores',\n",
      " 'pad_token_id',\n",
      " 'prefix',\n",
      " 'problem_type',\n",
      " 'pruned_heads',\n",
      " 'push_to_hub',\n",
      " 'qa_dropout',\n",
      " 'register_for_auto_class',\n",
      " 'remove_invalid_values',\n",
      " 'repetition_penalty',\n",
      " 'return_dict',\n",
      " 'return_dict_in_generate',\n",
      " 'save_pretrained',\n",
      " 'sep_token_id',\n",
      " 'seq_classif_dropout',\n",
      " 'sinusoidal_pos_embds',\n",
      " 'suppress_tokens',\n",
      " 'task_specific_params',\n",
      " 'temperature',\n",
      " 'tf_legacy_loss',\n",
      " 'tie_encoder_decoder',\n",
      " 'tie_weights_',\n",
      " 'tie_word_embeddings',\n",
      " 'to_dict',\n",
      " 'to_diff_dict',\n",
      " 'to_json_file',\n",
      " 'to_json_string',\n",
      " 'tokenizer_class',\n",
      " 'top_k',\n",
      " 'top_p',\n",
      " 'torch_dtype',\n",
      " 'torchscript',\n",
      " 'transformers_version',\n",
      " 'typical_p',\n",
      " 'update',\n",
      " 'update_from_string',\n",
      " 'use_bfloat16',\n",
      " 'use_return_dict',\n",
      " 'vocab_size']\n"
     ]
    }
   ],
   "source": [
    "pprint(dir(config))"
   ]
  },
  {
   "cell_type": "code",
   "execution_count": 27,
   "id": "54e5f7a1-6bc1-45ce-9b81-f6e82fb9f886",
   "metadata": {},
   "outputs": [
    {
     "name": "stdout",
     "output_type": "stream",
     "text": [
      "{'negative': 0, 'positive': 1, 'neutral': 2}\n",
      "{0: 'negative', 1: 'positive', 2: 'neutral'}\n",
      "\n"
     ]
    }
   ],
   "source": [
    "label_dict = dict(zip(label_names, label_targets))\n",
    "print(label_dict)\n",
    "label_dict_inv = {v: k for k, v in label_dict.items()}\n",
    "print(label_dict_inv)\n",
    "print()"
   ]
  },
  {
   "cell_type": "code",
   "execution_count": 34,
   "id": "8a2c6e21-95d4-4246-85d9-8c9f21798feb",
   "metadata": {},
   "outputs": [
    {
     "name": "stdout",
     "output_type": "stream",
     "text": [
      "{0: 'negative', 1: 'positive', 2: 'neutral'}\n",
      "{'negative': 0, 'positive': 1, 'neutral': 2}\n"
     ]
    }
   ],
   "source": [
    "# We will replace the label names with the correct information\n",
    "config.id2label = label_dict_inv\n",
    "config.label2id = label_dict\n",
    "\n",
    "print(config.id2label)\n",
    "print(config.label2id)"
   ]
  },
  {
   "cell_type": "code",
   "execution_count": 36,
   "id": "962080e3-1545-43a3-a217-d0f026bb0280",
   "metadata": {},
   "outputs": [
    {
     "name": "stderr",
     "output_type": "stream",
     "text": [
      "Some weights of DistilBertForSequenceClassification were not initialized from the model checkpoint at distilbert-base-cased and are newly initialized: ['classifier.bias', 'classifier.weight', 'pre_classifier.bias', 'pre_classifier.weight']\n",
      "You should probably TRAIN this model on a down-stream task to be able to use it for predictions and inference.\n"
     ]
    },
    {
     "data": {
      "application/vnd.jupyter.widget-view+json": {
       "model_id": "35f0eecbb3f84feb8a0c54ddfb8c18e2",
       "version_major": 2,
       "version_minor": 0
      },
      "text/plain": [
       "Map:   0%|          | 0/4392 [00:00<?, ? examples/s]"
      ]
     },
     "metadata": {},
     "output_type": "display_data"
    }
   ],
   "source": [
    "# DEFINE THE MODEL\n",
    "model = AutoModelForSequenceClassification.\\\n",
    "                from_pretrained(pretrained_model_name_or_path=checkpoint, config=config)\n",
    "# CREATE TOKENIZER\n",
    "tokenizer = AutoTokenizer.from_pretrained(checkpoint)\n",
    "def tokenize_fn(batch):\n",
    "    ''' We need to handle truncation here. Padding will be handled by the Trainer class '''\n",
    "    return tokenizer(batch.get('sentence'), truncation=True)\n",
    "\n",
    "# TOKENIZE THE DATA SETS\n",
    "tokenized_datasets = split.map(tokenize_fn, batched=True)"
   ]
  },
  {
   "cell_type": "code",
   "execution_count": 38,
   "id": "9fc25c97-9b77-423a-b599-0fccc36810f3",
   "metadata": {},
   "outputs": [
    {
     "data": {
      "text/plain": [
       "================================================================================\n",
       "Layer (type:depth-idx)                                  Param #\n",
       "================================================================================\n",
       "DistilBertForSequenceClassification                     --\n",
       "├─DistilBertModel: 1-1                                  --\n",
       "│    └─Embeddings: 2-1                                  --\n",
       "│    │    └─Embedding: 3-1                              22,268,928\n",
       "│    │    └─Embedding: 3-2                              393,216\n",
       "│    │    └─LayerNorm: 3-3                              1,536\n",
       "│    │    └─Dropout: 3-4                                --\n",
       "│    └─Transformer: 2-2                                 --\n",
       "│    │    └─ModuleList: 3-5                             42,527,232\n",
       "├─Linear: 1-2                                           590,592\n",
       "├─Linear: 1-3                                           2,307\n",
       "├─Dropout: 1-4                                          --\n",
       "================================================================================\n",
       "Total params: 65,783,811\n",
       "Trainable params: 65,783,811\n",
       "Non-trainable params: 0\n",
       "================================================================================"
      ]
     },
     "execution_count": 38,
     "metadata": {},
     "output_type": "execute_result"
    }
   ],
   "source": [
    "summary(model)"
   ]
  },
  {
   "cell_type": "code",
   "execution_count": 41,
   "id": "745cdf86-e0b8-405c-9fa6-d194226de800",
   "metadata": {},
   "outputs": [],
   "source": [
    "# METRICS FUNCTION\n",
    "def compute_metrics(logits_and_labels):\n",
    "    \"\"\" We need this for the trainer to compute the evaluation metrics \"\"\"\n",
    "    logits, labels = logits_and_labels\n",
    "    predictions = np.argmax(logits, axis=-1)\n",
    "    acc = np.mean(predictions == labels)\n",
    "    f1 = f1_score(labels, predictions, average='macro')\n",
    "    output_dict = {'acc': acc, 'f1': f1}\n",
    "    return output_dict"
   ]
  },
  {
   "cell_type": "code",
   "execution_count": 42,
   "id": "3ee0ac16-718a-4949-b550-c2f60e0916e7",
   "metadata": {},
   "outputs": [],
   "source": [
    "# TRAINING ARGUMENTS\n",
    "output_dir = os.path.join(model_dir, 'custom_sentiment_autoconfig')\n",
    "Path(output_dir).mkdir(exist_ok=True, parents=True)\n",
    "training_args = TrainingArguments(output_dir=output_dir,\n",
    "                                  eval_strategy='epoch',\n",
    "                                  save_strategy='epoch',\n",
    "                                  num_train_epochs=3,\n",
    "                                  logging_steps=50,\n",
    "                                  per_device_train_batch_size=96,\n",
    "                                  per_device_eval_batch_size=96)"
   ]
  },
  {
   "cell_type": "code",
   "execution_count": 44,
   "id": "1c4db374-bf89-4221-b02e-a466fb9c321a",
   "metadata": {},
   "outputs": [],
   "source": [
    "# TRAINER CLASS\n",
    "trainer = Trainer(model=model,\n",
    "                  args=training_args,\n",
    "                  train_dataset=tokenized_datasets.get('train'),\n",
    "                  eval_dataset=tokenized_datasets.get('test'),\n",
    "                  tokenizer=tokenizer,\n",
    "                  compute_metrics=compute_metrics)"
   ]
  },
  {
   "cell_type": "code",
   "execution_count": 45,
   "id": "7c0f9c38-c1df-4b21-9ee9-482bc6d4a878",
   "metadata": {},
   "outputs": [
    {
     "data": {
      "text/html": [
       "\n",
       "    <div>\n",
       "      \n",
       "      <progress value='321' max='321' style='width:300px; height:20px; vertical-align: middle;'></progress>\n",
       "      [321/321 02:50, Epoch 3/3]\n",
       "    </div>\n",
       "    <table border=\"1\" class=\"dataframe\">\n",
       "  <thead>\n",
       " <tr style=\"text-align: left;\">\n",
       "      <th>Epoch</th>\n",
       "      <th>Training Loss</th>\n",
       "      <th>Validation Loss</th>\n",
       "      <th>Acc</th>\n",
       "      <th>F1</th>\n",
       "    </tr>\n",
       "  </thead>\n",
       "  <tbody>\n",
       "    <tr>\n",
       "      <td>1</td>\n",
       "      <td>0.476300</td>\n",
       "      <td>0.440981</td>\n",
       "      <td>0.820811</td>\n",
       "      <td>0.759985</td>\n",
       "    </tr>\n",
       "    <tr>\n",
       "      <td>2</td>\n",
       "      <td>0.336300</td>\n",
       "      <td>0.442912</td>\n",
       "      <td>0.833561</td>\n",
       "      <td>0.771935</td>\n",
       "    </tr>\n",
       "    <tr>\n",
       "      <td>3</td>\n",
       "      <td>0.247200</td>\n",
       "      <td>0.453683</td>\n",
       "      <td>0.836749</td>\n",
       "      <td>0.786102</td>\n",
       "    </tr>\n",
       "  </tbody>\n",
       "</table><p>"
      ],
      "text/plain": [
       "<IPython.core.display.HTML object>"
      ]
     },
     "metadata": {},
     "output_type": "display_data"
    }
   ],
   "source": [
    "# Train the model\n",
    "trainer.train()\n",
    "# Save the final model\n",
    "trainer.save_model(output_dir)"
   ]
  },
  {
   "cell_type": "code",
   "execution_count": 46,
   "id": "91dc1c18-549e-4f0f-b888-3d65c6615280",
   "metadata": {},
   "outputs": [
    {
     "name": "stdout",
     "output_type": "stream",
     "text": [
      "/home/andreas/data/transformers/model_trained/custom_sentiment_autoconfig/checkpoint-214\n"
     ]
    }
   ],
   "source": [
    "# Load the model from the training checkpoint\n",
    "custom_checkpoint = os.path.join(output_dir, 'checkpoint-214')\n",
    "print(custom_checkpoint)"
   ]
  },
  {
   "cell_type": "code",
   "execution_count": 47,
   "id": "276f2410-7fa9-46b5-a17c-12a95cbba94e",
   "metadata": {},
   "outputs": [],
   "source": [
    "savedmodel = pipeline(task='text-classification', model=custom_checkpoint, device=device)"
   ]
  },
  {
   "cell_type": "code",
   "execution_count": 48,
   "id": "2b78c8f7-2971-4f25-aa4d-62b2e86ec945",
   "metadata": {},
   "outputs": [
    {
     "name": "stdout",
     "output_type": "stream",
     "text": [
      "[{'label': 'positive', 'score': 0.8119626045227051}]\n"
     ]
    }
   ],
   "source": [
    "print(savedmodel('I love the movies on this airline.'))"
   ]
  }
 ],
 "metadata": {
  "kernelspec": {
   "display_name": "Python 3 (ipykernel)",
   "language": "python",
   "name": "python3"
  },
  "language_info": {
   "codemirror_mode": {
    "name": "ipython",
    "version": 3
   },
   "file_extension": ".py",
   "mimetype": "text/x-python",
   "name": "python",
   "nbconvert_exporter": "python",
   "pygments_lexer": "ipython3",
   "version": "3.11.8"
  }
 },
 "nbformat": 4,
 "nbformat_minor": 5
}
