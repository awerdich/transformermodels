{
 "cells": [
  {
   "cell_type": "markdown",
   "id": "aecc66c5-44be-44a3-91a8-c1a42b9bd024",
   "metadata": {},
   "source": [
    "### Fine-tuning of a sentiment analysis classification model ###"
   ]
  },
  {
   "cell_type": "code",
   "execution_count": 43,
   "id": "a8c40f19-16e7-417e-9e33-d0b4a2b9d964",
   "metadata": {},
   "outputs": [
    {
     "data": {
      "text/html": [
       "<style>.container { width:100% !important; }</style>"
      ],
      "text/plain": [
       "<IPython.core.display.HTML object>"
      ]
     },
     "metadata": {},
     "output_type": "display_data"
    },
    {
     "name": "stdout",
     "output_type": "stream",
     "text": [
      "The autoreload extension is already loaded. To reload it, use:\n",
      "  %reload_ext autoreload\n",
      "Package version: 0.0.post1.dev8+gd983d5a.d20240721\n",
      "PyTorch version: 2.3.1+cu121\n"
     ]
    }
   ],
   "source": [
    "import os\n",
    "import json\n",
    "import numpy as np\n",
    "import pandas as pd\n",
    "from matplotlib import pyplot as plt\n",
    "import seaborn as sn\n",
    "from pprint import pprint\n",
    "import textwrap\n",
    "from pathlib import Path\n",
    "from pprint import pprint\n",
    "from matplotlib import pyplot as plt\n",
    "\n",
    "# Appearance of the Notebook\n",
    "from IPython.display import display, HTML\n",
    "display(HTML(\"<style>.container { width:100% !important; }</style>\"))\n",
    "\n",
    "# PyTorch\n",
    "import torch\n",
    "from torchinfo import summary\n",
    "\n",
    "# Hugging Face \n",
    "from transformers import pipeline, set_seed, AutoTokenizer\n",
    "from transformers import Trainer, TrainingArguments\n",
    "from transformers import AutoModelForSequenceClassification\n",
    "\n",
    "# This HuggingFace community-driven open-source library of datasets\n",
    "from datasets import load_dataset, load_metric\n",
    "\n",
    "from sklearn.metrics import f1_score, accuracy_score, confusion_matrix\n",
    "\n",
    "# Import this module with autoreload\n",
    "%load_ext autoreload\n",
    "%autoreload 2\n",
    "import transformermodels as tm\n",
    "print(f'Package version: {tm.__version__}')\n",
    "print(f'PyTorch version: {torch.__version__}')"
   ]
  },
  {
   "cell_type": "code",
   "execution_count": 2,
   "id": "a7a29ad2-c178-4348-ae33-847ec0d20d84",
   "metadata": {},
   "outputs": [
    {
     "name": "stdout",
     "output_type": "stream",
     "text": [
      "CUDA available: True\n",
      "Number of GPUs found:  1\n",
      "Current device ID:     0\n",
      "GPU device name:       NVIDIA GeForce GTX 1080 with Max-Q Design\n",
      "CUDNN version:         8902\n",
      "\n",
      "Device for model training/inference: cuda:0\n"
     ]
    }
   ],
   "source": [
    "# GPU checks\n",
    "is_cuda = torch.cuda.is_available()\n",
    "print(f'CUDA available: {is_cuda}')\n",
    "print(f'Number of GPUs found:  {torch.cuda.device_count()}')\n",
    "\n",
    "if is_cuda:\n",
    "    print(f'Current device ID:     {torch.cuda.current_device()}')\n",
    "    print(f'GPU device name:       {torch.cuda.get_device_name(0)}')\n",
    "    print(f'CUDNN version:         {torch.backends.cudnn.version()}')\n",
    "    device_str = 'cuda:0'\n",
    "    torch.cuda.empty_cache() \n",
    "else:\n",
    "    device_str = 'cpu'\n",
    "device = torch.device(device_str)\n",
    "print()\n",
    "print(f'Device for model training/inference: {device}')"
   ]
  },
  {
   "cell_type": "code",
   "execution_count": 3,
   "id": "ffbf9236-736e-440a-beed-e16a13af8d25",
   "metadata": {},
   "outputs": [
    {
     "data": {
      "text/html": [
       "<div>\n",
       "<style scoped>\n",
       "    .dataframe tbody tr th:only-of-type {\n",
       "        vertical-align: middle;\n",
       "    }\n",
       "\n",
       "    .dataframe tbody tr th {\n",
       "        vertical-align: top;\n",
       "    }\n",
       "\n",
       "    .dataframe thead th {\n",
       "        text-align: right;\n",
       "    }\n",
       "</style>\n",
       "<table border=\"1\" class=\"dataframe\">\n",
       "  <thead>\n",
       "    <tr style=\"text-align: right;\">\n",
       "      <th></th>\n",
       "      <th>tweet_id</th>\n",
       "      <th>airline_sentiment</th>\n",
       "      <th>airline_sentiment_confidence</th>\n",
       "      <th>negativereason</th>\n",
       "      <th>negativereason_confidence</th>\n",
       "      <th>airline</th>\n",
       "      <th>airline_sentiment_gold</th>\n",
       "      <th>name</th>\n",
       "      <th>negativereason_gold</th>\n",
       "      <th>retweet_count</th>\n",
       "      <th>text</th>\n",
       "      <th>tweet_coord</th>\n",
       "      <th>tweet_created</th>\n",
       "      <th>tweet_location</th>\n",
       "      <th>user_timezone</th>\n",
       "    </tr>\n",
       "  </thead>\n",
       "  <tbody>\n",
       "    <tr>\n",
       "      <th>0</th>\n",
       "      <td>570306133677760513</td>\n",
       "      <td>neutral</td>\n",
       "      <td>1.0000</td>\n",
       "      <td>NaN</td>\n",
       "      <td>NaN</td>\n",
       "      <td>Virgin America</td>\n",
       "      <td>NaN</td>\n",
       "      <td>cairdin</td>\n",
       "      <td>NaN</td>\n",
       "      <td>0</td>\n",
       "      <td>@VirginAmerica What @dhepburn said.</td>\n",
       "      <td>NaN</td>\n",
       "      <td>2015-02-24 11:35:52 -0800</td>\n",
       "      <td>NaN</td>\n",
       "      <td>Eastern Time (US &amp; Canada)</td>\n",
       "    </tr>\n",
       "    <tr>\n",
       "      <th>1</th>\n",
       "      <td>570301130888122368</td>\n",
       "      <td>positive</td>\n",
       "      <td>0.3486</td>\n",
       "      <td>NaN</td>\n",
       "      <td>0.0</td>\n",
       "      <td>Virgin America</td>\n",
       "      <td>NaN</td>\n",
       "      <td>jnardino</td>\n",
       "      <td>NaN</td>\n",
       "      <td>0</td>\n",
       "      <td>@VirginAmerica plus you've added commercials t...</td>\n",
       "      <td>NaN</td>\n",
       "      <td>2015-02-24 11:15:59 -0800</td>\n",
       "      <td>NaN</td>\n",
       "      <td>Pacific Time (US &amp; Canada)</td>\n",
       "    </tr>\n",
       "  </tbody>\n",
       "</table>\n",
       "</div>"
      ],
      "text/plain": [
       "             tweet_id airline_sentiment  airline_sentiment_confidence  \\\n",
       "0  570306133677760513           neutral                        1.0000   \n",
       "1  570301130888122368          positive                        0.3486   \n",
       "\n",
       "  negativereason  negativereason_confidence         airline  \\\n",
       "0            NaN                        NaN  Virgin America   \n",
       "1            NaN                        0.0  Virgin America   \n",
       "\n",
       "  airline_sentiment_gold      name negativereason_gold  retweet_count  \\\n",
       "0                    NaN   cairdin                 NaN              0   \n",
       "1                    NaN  jnardino                 NaN              0   \n",
       "\n",
       "                                                text tweet_coord  \\\n",
       "0                @VirginAmerica What @dhepburn said.         NaN   \n",
       "1  @VirginAmerica plus you've added commercials t...         NaN   \n",
       "\n",
       "               tweet_created tweet_location               user_timezone  \n",
       "0  2015-02-24 11:35:52 -0800            NaN  Eastern Time (US & Canada)  \n",
       "1  2015-02-24 11:15:59 -0800            NaN  Pacific Time (US & Canada)  "
      ]
     },
     "metadata": {},
     "output_type": "display_data"
    },
    {
     "data": {
      "text/html": [
       "<div>\n",
       "<style scoped>\n",
       "    .dataframe tbody tr th:only-of-type {\n",
       "        vertical-align: middle;\n",
       "    }\n",
       "\n",
       "    .dataframe tbody tr th {\n",
       "        vertical-align: top;\n",
       "    }\n",
       "\n",
       "    .dataframe thead th {\n",
       "        text-align: right;\n",
       "    }\n",
       "</style>\n",
       "<table border=\"1\" class=\"dataframe\">\n",
       "  <thead>\n",
       "    <tr style=\"text-align: right;\">\n",
       "      <th></th>\n",
       "      <th>text</th>\n",
       "      <th>airline_sentiment</th>\n",
       "    </tr>\n",
       "  </thead>\n",
       "  <tbody>\n",
       "    <tr>\n",
       "      <th>0</th>\n",
       "      <td>@VirginAmerica What @dhepburn said.</td>\n",
       "      <td>neutral</td>\n",
       "    </tr>\n",
       "    <tr>\n",
       "      <th>1</th>\n",
       "      <td>@VirginAmerica plus you've added commercials t...</td>\n",
       "      <td>positive</td>\n",
       "    </tr>\n",
       "    <tr>\n",
       "      <th>2</th>\n",
       "      <td>@VirginAmerica I didn't today... Must mean I n...</td>\n",
       "      <td>neutral</td>\n",
       "    </tr>\n",
       "    <tr>\n",
       "      <th>3</th>\n",
       "      <td>@VirginAmerica it's really aggressive to blast...</td>\n",
       "      <td>negative</td>\n",
       "    </tr>\n",
       "    <tr>\n",
       "      <th>4</th>\n",
       "      <td>@VirginAmerica and it's a really big bad thing...</td>\n",
       "      <td>negative</td>\n",
       "    </tr>\n",
       "  </tbody>\n",
       "</table>\n",
       "</div>"
      ],
      "text/plain": [
       "                                                text airline_sentiment\n",
       "0                @VirginAmerica What @dhepburn said.           neutral\n",
       "1  @VirginAmerica plus you've added commercials t...          positive\n",
       "2  @VirginAmerica I didn't today... Must mean I n...           neutral\n",
       "3  @VirginAmerica it's really aggressive to blast...          negative\n",
       "4  @VirginAmerica and it's a really big bad thing...          negative"
      ]
     },
     "metadata": {},
     "output_type": "display_data"
    }
   ],
   "source": [
    "# Helper functions and parameters\n",
    "def wrap(x):\n",
    "    return textwrap.fill(x, replace_whitespace=False, fix_sentence_endings=True)\n",
    "\n",
    "# Directories\n",
    "data_dir = os.path.join(os.environ.get('HOME'), 'data', 'transformers')\n",
    "model_dir = os.path.join(data_dir, 'model_trained')\n",
    "Path(model_dir).mkdir(parents=True, exist_ok=True)\n",
    "# Load the HuggingFace datasets\n",
    "# Full list of datasets\n",
    "# https://huggingface.co/datasets\n",
    "# dataset = load_dataset('amazon_polarity')\n",
    "\n",
    "# The custom data set\n",
    "#!wget -nc https://lazyprogrammer.me/course_files/AirlineTweets.csv\n",
    "data_file_name = 'AirlineTweets.csv'\n",
    "data_file = os.path.join(data_dir, data_file_name)\n",
    "df_ = pd.read_csv(data_file)\n",
    "display(df_.head(2))\n",
    "\n",
    "# We only need the text and the labels\n",
    "df = df_[['text', 'airline_sentiment']]\n",
    "display(df.head())"
   ]
  },
  {
   "cell_type": "code",
   "execution_count": 4,
   "id": "0c8eace8-f803-4073-bcd0-0f04a21ee2cc",
   "metadata": {},
   "outputs": [
    {
     "data": {
      "image/png": "[encoded data removed]",
      "text/plain": [
       "<Figure size 640x480 with 1 Axes>"
      ]
     },
     "metadata": {},
     "output_type": "display_data"
    }
   ],
   "source": [
    "df['airline_sentiment'].hist()\n",
    "plt.show()\n",
    "# This is a highly imbalanced data set"
   ]
  },
  {
   "cell_type": "code",
   "execution_count": 5,
   "id": "d345873a-e79c-4d8e-9344-1431e94b6ab9",
   "metadata": {},
   "outputs": [
    {
     "name": "stdout",
     "output_type": "stream",
     "text": [
      "['neutral', 'positive', 'negative']\n",
      "{'negative': 0, 'neutral': 2, 'positive': 1}\n"
     ]
    },
    {
     "data": {
      "text/html": [
       "<div>\n",
       "<style scoped>\n",
       "    .dataframe tbody tr th:only-of-type {\n",
       "        vertical-align: middle;\n",
       "    }\n",
       "\n",
       "    .dataframe tbody tr th {\n",
       "        vertical-align: top;\n",
       "    }\n",
       "\n",
       "    .dataframe thead th {\n",
       "        text-align: right;\n",
       "    }\n",
       "</style>\n",
       "<table border=\"1\" class=\"dataframe\">\n",
       "  <thead>\n",
       "    <tr style=\"text-align: right;\">\n",
       "      <th></th>\n",
       "      <th>text</th>\n",
       "      <th>airline_sentiment</th>\n",
       "      <th>target</th>\n",
       "    </tr>\n",
       "  </thead>\n",
       "  <tbody>\n",
       "    <tr>\n",
       "      <th>0</th>\n",
       "      <td>@VirginAmerica What @dhepburn said.</td>\n",
       "      <td>neutral</td>\n",
       "      <td>2</td>\n",
       "    </tr>\n",
       "    <tr>\n",
       "      <th>1</th>\n",
       "      <td>@VirginAmerica plus you've added commercials t...</td>\n",
       "      <td>positive</td>\n",
       "      <td>1</td>\n",
       "    </tr>\n",
       "    <tr>\n",
       "      <th>2</th>\n",
       "      <td>@VirginAmerica I didn't today... Must mean I n...</td>\n",
       "      <td>neutral</td>\n",
       "      <td>2</td>\n",
       "    </tr>\n",
       "    <tr>\n",
       "      <th>3</th>\n",
       "      <td>@VirginAmerica it's really aggressive to blast...</td>\n",
       "      <td>negative</td>\n",
       "      <td>0</td>\n",
       "    </tr>\n",
       "    <tr>\n",
       "      <th>4</th>\n",
       "      <td>@VirginAmerica and it's a really big bad thing...</td>\n",
       "      <td>negative</td>\n",
       "      <td>0</td>\n",
       "    </tr>\n",
       "  </tbody>\n",
       "</table>\n",
       "</div>"
      ],
      "text/plain": [
       "                                                text airline_sentiment  target\n",
       "0                @VirginAmerica What @dhepburn said.           neutral       2\n",
       "1  @VirginAmerica plus you've added commercials t...          positive       1\n",
       "2  @VirginAmerica I didn't today... Must mean I n...           neutral       2\n",
       "3  @VirginAmerica it's really aggressive to blast...          negative       0\n",
       "4  @VirginAmerica and it's a really big bad thing...          negative       0"
      ]
     },
     "metadata": {},
     "output_type": "display_data"
    }
   ],
   "source": [
    "# Map the labelsto integers\n",
    "print(list(df['airline_sentiment'].unique()))\n",
    "# Hard-code the label mapping\n",
    "label_names = ['negative', 'positive', 'neutral']\n",
    "label_targets = [0, 1, 2]\n",
    "label_dict = dict(zip(label_names, label_targets))\n",
    "pprint(label_dict)\n",
    "\n",
    "# This is cool: we do not use apply here. Just mappings.\n",
    "df = df_[['text', 'airline_sentiment']].assign(target=df_['airline_sentiment'].map(label_dict))\n",
    "display(df.head())"
   ]
  },
  {
   "cell_type": "code",
   "execution_count": 6,
   "id": "0fd43570-fc7e-4afc-aba8-4aea11db718d",
   "metadata": {},
   "outputs": [
    {
     "data": {
      "text/html": [
       "<div>\n",
       "<style scoped>\n",
       "    .dataframe tbody tr th:only-of-type {\n",
       "        vertical-align: middle;\n",
       "    }\n",
       "\n",
       "    .dataframe tbody tr th {\n",
       "        vertical-align: top;\n",
       "    }\n",
       "\n",
       "    .dataframe thead th {\n",
       "        text-align: right;\n",
       "    }\n",
       "</style>\n",
       "<table border=\"1\" class=\"dataframe\">\n",
       "  <thead>\n",
       "    <tr style=\"text-align: right;\">\n",
       "      <th></th>\n",
       "      <th>sentence</th>\n",
       "      <th>label</th>\n",
       "    </tr>\n",
       "  </thead>\n",
       "  <tbody>\n",
       "    <tr>\n",
       "      <th>0</th>\n",
       "      <td>@VirginAmerica What @dhepburn said.</td>\n",
       "      <td>2</td>\n",
       "    </tr>\n",
       "    <tr>\n",
       "      <th>1</th>\n",
       "      <td>@VirginAmerica plus you've added commercials t...</td>\n",
       "      <td>1</td>\n",
       "    </tr>\n",
       "    <tr>\n",
       "      <th>2</th>\n",
       "      <td>@VirginAmerica I didn't today... Must mean I n...</td>\n",
       "      <td>2</td>\n",
       "    </tr>\n",
       "    <tr>\n",
       "      <th>3</th>\n",
       "      <td>@VirginAmerica it's really aggressive to blast...</td>\n",
       "      <td>0</td>\n",
       "    </tr>\n",
       "    <tr>\n",
       "      <th>4</th>\n",
       "      <td>@VirginAmerica and it's a really big bad thing...</td>\n",
       "      <td>0</td>\n",
       "    </tr>\n",
       "  </tbody>\n",
       "</table>\n",
       "</div>"
      ],
      "text/plain": [
       "                                            sentence  label\n",
       "0                @VirginAmerica What @dhepburn said.      2\n",
       "1  @VirginAmerica plus you've added commercials t...      1\n",
       "2  @VirginAmerica I didn't today... Must mean I n...      2\n",
       "3  @VirginAmerica it's really aggressive to blast...      0\n",
       "4  @VirginAmerica and it's a really big bad thing...      0"
      ]
     },
     "metadata": {},
     "output_type": "display_data"
    },
    {
     "name": "stdout",
     "output_type": "stream",
     "text": [
      "/home/andreas/data/transformers/AirlineTweets.parquet\n"
     ]
    }
   ],
   "source": [
    "# Create a simplified df\n",
    "df2 = df[['text', 'target']]\n",
    "\n",
    "# To use the \"load_dataset\" function, we need to have specific column names\n",
    "df2.columns = ['sentence', 'label']\n",
    "display(df2.head())\n",
    "\n",
    "df2_name = f'{os.path.splitext(data_file_name)[0]}.parquet'\n",
    "df2_file = os.path.join(data_dir, df2_name)\n",
    "print(df2_file)\n",
    "df2.to_parquet(df2_file)"
   ]
  },
  {
   "cell_type": "code",
   "execution_count": 7,
   "id": "71fa99a8-da4a-4d25-bc35-fc22e925589f",
   "metadata": {},
   "outputs": [
    {
     "data": {
      "application/vnd.jupyter.widget-view+json": {
       "model_id": "3e1e4b5a526d44889d7be2942532acbc",
       "version_major": 2,
       "version_minor": 0
      },
      "text/plain": [
       "Generating train split: 0 examples [00:00, ? examples/s]"
      ]
     },
     "metadata": {},
     "output_type": "display_data"
    }
   ],
   "source": [
    "# Load the .parquet file as a HuggingFace dataset\n",
    "raw_dataset = load_dataset('parquet', data_files=df2_file)\n",
    "split = raw_dataset.get('train').train_test_split(test_size=0.3, seed=42)"
   ]
  },
  {
   "cell_type": "code",
   "execution_count": 8,
   "id": "2281821b-4032-4987-a1f0-460c70003e2d",
   "metadata": {},
   "outputs": [
    {
     "data": {
      "text/plain": [
       "DatasetDict({\n",
       "    train: Dataset({\n",
       "        features: ['sentence', 'label'],\n",
       "        num_rows: 10248\n",
       "    })\n",
       "    test: Dataset({\n",
       "        features: ['sentence', 'label'],\n",
       "        num_rows: 4392\n",
       "    })\n",
       "})"
      ]
     },
     "metadata": {},
     "output_type": "display_data"
    }
   ],
   "source": [
    "display(split)"
   ]
  },
  {
   "cell_type": "code",
   "execution_count": 9,
   "id": "962080e3-1545-43a3-a217-d0f026bb0280",
   "metadata": {},
   "outputs": [
    {
     "name": "stderr",
     "output_type": "stream",
     "text": [
      "Some weights of DistilBertForSequenceClassification were not initialized from the model checkpoint at distilbert-base-cased and are newly initialized: ['classifier.bias', 'classifier.weight', 'pre_classifier.bias', 'pre_classifier.weight']\n",
      "You should probably TRAIN this model on a down-stream task to be able to use it for predictions and inference.\n"
     ]
    },
    {
     "data": {
      "application/vnd.jupyter.widget-view+json": {
       "model_id": "bbb11f7981b74a3c96bea8229cccba59",
       "version_major": 2,
       "version_minor": 0
      },
      "text/plain": [
       "Map:   0%|          | 0/10248 [00:00<?, ? examples/s]"
      ]
     },
     "metadata": {},
     "output_type": "display_data"
    },
    {
     "data": {
      "application/vnd.jupyter.widget-view+json": {
       "model_id": "9deb9c260cfb4ae1a72a36ed168b4aa7",
       "version_major": 2,
       "version_minor": 0
      },
      "text/plain": [
       "Map:   0%|          | 0/4392 [00:00<?, ? examples/s]"
      ]
     },
     "metadata": {},
     "output_type": "display_data"
    }
   ],
   "source": [
    "# DEFINE MODEL CHECKPOINT\n",
    "checkpoint = 'distilbert-base-cased'\n",
    "\n",
    "# DEFINE THE MODEL\n",
    "model = AutoModelForSequenceClassification.from_pretrained(pretrained_model_name_or_path=checkpoint, num_labels=3)\n",
    "\n",
    "# CREATE TOKENIZER\n",
    "tokenizer = AutoTokenizer.from_pretrained(checkpoint)\n",
    "def tokenize_fn(batch):\n",
    "    ''' We need to handle truncation here. Padding will be handled by the Trainer class '''\n",
    "    return tokenizer(batch.get('sentence'), truncation=True)\n",
    "\n",
    "# TOKENIZE THE DATA SETS\n",
    "tokenized_datasets = split.map(tokenize_fn, batched=True)"
   ]
  },
  {
   "cell_type": "code",
   "execution_count": 10,
   "id": "9fc25c97-9b77-423a-b599-0fccc36810f3",
   "metadata": {},
   "outputs": [
    {
     "data": {
      "text/plain": [
       "================================================================================\n",
       "Layer (type:depth-idx)                                  Param #\n",
       "================================================================================\n",
       "DistilBertForSequenceClassification                     --\n",
       "├─DistilBertModel: 1-1                                  --\n",
       "│    └─Embeddings: 2-1                                  --\n",
       "│    │    └─Embedding: 3-1                              22,268,928\n",
       "│    │    └─Embedding: 3-2                              393,216\n",
       "│    │    └─LayerNorm: 3-3                              1,536\n",
       "│    │    └─Dropout: 3-4                                --\n",
       "│    └─Transformer: 2-2                                 --\n",
       "│    │    └─ModuleList: 3-5                             42,527,232\n",
       "├─Linear: 1-2                                           590,592\n",
       "├─Linear: 1-3                                           2,307\n",
       "├─Dropout: 1-4                                          --\n",
       "================================================================================\n",
       "Total params: 65,783,811\n",
       "Trainable params: 65,783,811\n",
       "Non-trainable params: 0\n",
       "================================================================================"
      ]
     },
     "execution_count": 10,
     "metadata": {},
     "output_type": "execute_result"
    }
   ],
   "source": [
    "summary(model)"
   ]
  },
  {
   "cell_type": "code",
   "execution_count": 11,
   "id": "745cdf86-e0b8-405c-9fa6-d194226de800",
   "metadata": {},
   "outputs": [],
   "source": [
    "# METRICS FUNCTION\n",
    "def compute_metrics(logits_and_labels):\n",
    "    \"\"\" We need this for the trainer to compute the evaluation metrics \"\"\"\n",
    "    logits, labels = logits_and_labels\n",
    "    predictions = np.argmax(logits, axis=-1)\n",
    "    acc = np.mean(predictions == labels)\n",
    "    f1 = f1_score(labels, predictions, average='macro')\n",
    "    output_dict = {'acc': acc, 'f1': f1}\n",
    "    return output_dict"
   ]
  },
  {
   "cell_type": "code",
   "execution_count": 12,
   "id": "3ee0ac16-718a-4949-b550-c2f60e0916e7",
   "metadata": {},
   "outputs": [],
   "source": [
    "# TRAINING ARGUMENTS\n",
    "output_dir = os.path.join(model_dir, 'custom_sentiment')\n",
    "Path(output_dir).mkdir(exist_ok=True, parents=True)\n",
    "training_args = TrainingArguments(output_dir=output_dir,\n",
    "                                  eval_strategy='epoch',\n",
    "                                  save_strategy='epoch',\n",
    "                                  num_train_epochs=3,\n",
    "                                  logging_steps=50,\n",
    "                                  per_device_train_batch_size=96,\n",
    "                                  per_device_eval_batch_size=96)"
   ]
  },
  {
   "cell_type": "code",
   "execution_count": 13,
   "id": "1c4db374-bf89-4221-b02e-a466fb9c321a",
   "metadata": {},
   "outputs": [],
   "source": [
    "# TRAINER CLASS\n",
    "trainer = Trainer(model=model,\n",
    "                  args=training_args,\n",
    "                  train_dataset=tokenized_datasets.get('train'),\n",
    "                  eval_dataset=tokenized_datasets.get('test'),\n",
    "                  tokenizer=tokenizer,\n",
    "                  compute_metrics=compute_metrics)"
   ]
  },
  {
   "cell_type": "code",
   "execution_count": 14,
   "id": "7c0f9c38-c1df-4b21-9ee9-482bc6d4a878",
   "metadata": {},
   "outputs": [],
   "source": [
    "# trainer.train()\n",
    "# Save the model\n",
    "# trainer.save_model(output_dir)"
   ]
  },
  {
   "cell_type": "code",
   "execution_count": 15,
   "id": "91dc1c18-549e-4f0f-b888-3d65c6615280",
   "metadata": {},
   "outputs": [
    {
     "name": "stdout",
     "output_type": "stream",
     "text": [
      "/home/andreas/data/transformers/model_trained/custom_sentiment/checkpoint-214\n"
     ]
    }
   ],
   "source": [
    "# Load the model from the training checkpoint\n",
    "custom_checkpoint = os.path.join(output_dir, 'checkpoint-214')\n",
    "print(custom_checkpoint)"
   ]
  },
  {
   "cell_type": "code",
   "execution_count": 16,
   "id": "276f2410-7fa9-46b5-a17c-12a95cbba94e",
   "metadata": {},
   "outputs": [],
   "source": [
    "savedmodel = pipeline(task='text-classification', model=custom_checkpoint, device=device)"
   ]
  },
  {
   "cell_type": "code",
   "execution_count": 25,
   "id": "9a037521-462b-4f43-9536-28d1d9346ed1",
   "metadata": {},
   "outputs": [
    {
     "name": "stdout",
     "output_type": "stream",
     "text": [
      "{'negative': 0, 'positive': 1, 'neutral': 2}\n",
      "{0: 'negative', 1: 'positive', 2: 'neutral'}\n"
     ]
    }
   ],
   "source": [
    "print(savedmodel('This airline sucks.'))\n",
    "print(label_dict)\n",
    "# Get the inverse\n",
    "label_dict_inv = {val: key for key, val in label_dict.items()}\n",
    "print(label_dict_inv)"
   ]
  },
  {
   "cell_type": "code",
   "execution_count": 26,
   "id": "219ad9dd-ddf6-41ee-b00a-5cbf29739b7a",
   "metadata": {},
   "outputs": [
    {
     "data": {
      "text/plain": [
       "{'_name_or_path': 'distilbert-base-cased',\n",
       " 'activation': 'gelu',\n",
       " 'architectures': ['DistilBertForSequenceClassification'],\n",
       " 'attention_dropout': 0.1,\n",
       " 'dim': 768,\n",
       " 'dropout': 0.1,\n",
       " 'hidden_dim': 3072,\n",
       " 'id2label': {0: 'negative', 1: 'positive', 2: 'neutral'},\n",
       " 'initializer_range': 0.02,\n",
       " 'label2id': {'LABEL_0': 0, 'LABEL_1': 1, 'LABEL_2': 2},\n",
       " 'max_position_embeddings': 512,\n",
       " 'model_type': 'distilbert',\n",
       " 'n_heads': 12,\n",
       " 'n_layers': 6,\n",
       " 'output_past': True,\n",
       " 'pad_token_id': 0,\n",
       " 'problem_type': 'single_label_classification',\n",
       " 'qa_dropout': 0.1,\n",
       " 'seq_classif_dropout': 0.2,\n",
       " 'sinusoidal_pos_embds': False,\n",
       " 'tie_weights_': True,\n",
       " 'torch_dtype': 'float32',\n",
       " 'transformers_version': '4.42.4',\n",
       " 'vocab_size': 28996}"
      ]
     },
     "metadata": {},
     "output_type": "display_data"
    }
   ],
   "source": [
    "# Replace the labels in the config file\n",
    "config_file = os.path.join(custom_checkpoint, 'config.json')\n",
    "\n",
    "# Open the config file\n",
    "with open(config_file) as fl:\n",
    "    js = json.load(fl)\n",
    "\n",
    "# Add the labels mappings\n",
    "js.update({'id2label': label_dict_inv})\n",
    "\n",
    "# Save the new configuration file\n",
    "with open(config_file, 'w') as fl:\n",
    "    json.dump(js, fl, indent=2)\n",
    "\n",
    "display(js)"
   ]
  },
  {
   "cell_type": "code",
   "execution_count": 29,
   "id": "491b6284-0d01-44e2-b0b4-b7ebc3d0ff48",
   "metadata": {},
   "outputs": [
    {
     "name": "stdout",
     "output_type": "stream",
     "text": [
      "[{'label': 'negative', 'score': 0.9989983439445496}]\n",
      "[{'label': 'positive', 'score': 0.9934822916984558}]\n"
     ]
    }
   ],
   "source": [
    "savedmodel = pipeline(task='text-classification', model=custom_checkpoint, device=device)\n",
    "print(savedmodel('This airline sucks.'))\n",
    "print(savedmodel('This burger is super good.'))"
   ]
  },
  {
   "cell_type": "code",
   "execution_count": 34,
   "id": "da7d2e1f-5e85-4ef5-94b2-7cfeeaa403a7",
   "metadata": {},
   "outputs": [],
   "source": [
    "# Plot the confusion matrix for another checkpoint\n",
    "custom_checkpoint = os.path.join(output_dir, 'checkpoint-321')\n",
    "savedmodel = pipeline(task='text-classification', model=custom_checkpoint, device=device)\n",
    "test_pred = savedmodel(split['test']['sentence'])\n",
    "\n",
    "def get_label(d):\n",
    "  return int(d['label'].split('_')[1])\n",
    "\n",
    "test_pred_labels = [get_label(d) for d in test_pred]"
   ]
  },
  {
   "cell_type": "code",
   "execution_count": 40,
   "id": "adf5d8ea-4c29-4d84-b222-fccd517eb03d",
   "metadata": {},
   "outputs": [
    {
     "name": "stdout",
     "output_type": "stream",
     "text": [
      "[{'label': 'LABEL_1', 'score': 0.9606209397315979},\n",
      " {'label': 'LABEL_1', 'score': 0.9876927733421326},\n",
      " {'label': 'LABEL_2', 'score': 0.649779736995697}]\n",
      "[1, 1, 2]\n",
      "\n",
      "acc: 0.8262750455373407\n",
      "f1: 0.7695995838579882\n"
     ]
    }
   ],
   "source": [
    "pprint(test_pred[:3])\n",
    "pprint(test_pred_labels[:3])\n",
    "print()\n",
    "print(\"acc:\", accuracy_score(split['test']['label'], test_pred_labels))\n",
    "print(\"f1:\", f1_score(split['test']['label'], test_pred_labels, average='macro'))"
   ]
  },
  {
   "cell_type": "code",
   "execution_count": 45,
   "id": "a0819d69-9691-4901-b814-1f40fb7e5ca4",
   "metadata": {},
   "outputs": [
    {
     "data": {
      "image/png": "[encoded data removed]",
      "text/plain": [
       "<Figure size 640x480 with 2 Axes>"
      ]
     },
     "metadata": {},
     "output_type": "display_data"
    }
   ],
   "source": [
    "# Scikit-Learn is transitioning to V1 but it's not available on Colab\n",
    "# The changes modify how confusion matrices are plotted\n",
    "def plot_cm(cm):\n",
    "  classes = ['negative', 'positive', 'neutral']\n",
    "  df_cm = pd.DataFrame(cm, index=classes, columns=classes)\n",
    "  ax = sn.heatmap(df_cm, annot=True, fmt='g')\n",
    "  ax.set_xlabel(\"Predicted\")\n",
    "  ax.set_ylabel(\"Target\")\n",
    "\n",
    "cm = confusion_matrix(split['test']['label'], test_pred_labels, normalize='true')\n",
    "plot_cm(cm)"
   ]
  }
 ],
 "metadata": {
  "kernelspec": {
   "display_name": "Python 3 (ipykernel)",
   "language": "python",
   "name": "python3"
  },
  "language_info": {
   "codemirror_mode": {
    "name": "ipython",
    "version": 3
   },
   "file_extension": ".py",
   "mimetype": "text/x-python",
   "name": "python",
   "nbconvert_exporter": "python",
   "pygments_lexer": "ipython3",
   "version": "3.11.8"
  }
 },
 "nbformat": 4,
 "nbformat_minor": 5
}
