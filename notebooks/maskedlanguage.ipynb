{
 "cells": [
  {
   "cell_type": "code",
   "execution_count": 1,
   "id": "bd16dd6e-8a2b-42f7-a2bc-d7f187e4514d",
   "metadata": {},
   "outputs": [
    {
     "data": {
      "text/html": [
       "<style>.container { width:100% !important; }</style>"
      ],
      "text/plain": [
       "<IPython.core.display.HTML object>"
      ]
     },
     "metadata": {},
     "output_type": "display_data"
    },
    {
     "name": "stdout",
     "output_type": "stream",
     "text": [
      "Package version: 0.0.post1.dev3+g8362a6c.d20240713\n",
      "PyTorch version: 2.3.1+cu121\n"
     ]
    }
   ],
   "source": [
    "import os\n",
    "import numpy as np\n",
    "import pandas as pd\n",
    "from matplotlib import pyplot as plt\n",
    "import seaborn as sn\n",
    "from pprint import pprint\n",
    "import textwrap\n",
    "\n",
    "# Appearance of the Notebook\n",
    "from IPython.display import display, HTML\n",
    "display(HTML(\"<style>.container { width:100% !important; }</style>\"))\n",
    "\n",
    "# PyTorch\n",
    "import torch\n",
    "\n",
    "# Hugging Face \n",
    "from transformers import pipeline, set_seed\n",
    "\n",
    "# Import this module with autoreload\n",
    "%load_ext autoreload\n",
    "%autoreload 2\n",
    "import transformermodels as tm\n",
    "print(f'Package version: {tm.__version__}')\n",
    "print(f'PyTorch version: {torch.__version__}')"
   ]
  },
  {
   "cell_type": "code",
   "execution_count": 2,
   "id": "d798d945-43c7-43e6-a843-fa99f19a2631",
   "metadata": {},
   "outputs": [
    {
     "name": "stdout",
     "output_type": "stream",
     "text": [
      "CUDA available: True\n",
      "Number of GPUs found:  1\n",
      "Current device ID:     0\n",
      "GPU device name:       NVIDIA GeForce RTX 3070 Laptop GPU\n",
      "CUDNN version:         8902\n",
      "\n",
      "Device for model training/inference: cuda:0\n"
     ]
    }
   ],
   "source": [
    "# GPU checks\n",
    "is_cuda = torch.cuda.is_available()\n",
    "print(f'CUDA available: {is_cuda}')\n",
    "print(f'Number of GPUs found:  {torch.cuda.device_count()}')\n",
    "\n",
    "if is_cuda:\n",
    "    print(f'Current device ID:     {torch.cuda.current_device()}')\n",
    "    print(f'GPU device name:       {torch.cuda.get_device_name(0)}')\n",
    "    print(f'CUDNN version:         {torch.backends.cudnn.version()}')\n",
    "    device_str = 'cuda:0'\n",
    "    torch.cuda.empty_cache() \n",
    "else:\n",
    "    device_str = 'cpu'\n",
    "device = torch.device(device_str)\n",
    "print()\n",
    "print(f'Device for model training/inference: {device}')"
   ]
  },
  {
   "cell_type": "code",
   "execution_count": 16,
   "id": "96ce8706-ff64-4576-87e3-5ec179646905",
   "metadata": {},
   "outputs": [],
   "source": [
    "# Helper functions\n",
    "def wrap(x):\n",
    "    return textwrap.fill(x, replace_whitespace=False, fix_sentence_endings=True)\n",
    "\n",
    "# Directories\n",
    "data_dir = os.path.join(os.environ.get('HOME'), 'data', 'transformers')\n",
    "\n",
    "# The BBC News Data Set\n",
    "csv_file = os.path.join(data_dir, 'bbc_text_cls.csv')"
   ]
  },
  {
   "cell_type": "code",
   "execution_count": 4,
   "id": "a065f085-6fa6-48d2-8136-9e4433a6f581",
   "metadata": {},
   "outputs": [
    {
     "name": "stderr",
     "output_type": "stream",
     "text": [
      "No model was supplied, defaulted to distilbert/distilroberta-base and revision ec58a5b (https://huggingface.co/distilbert/distilroberta-base).\n",
      "Using a pipeline without specifying a model name and revision in production is not recommended.\n"
     ]
    },
    {
     "data": {
      "application/vnd.jupyter.widget-view+json": {
       "model_id": "e6d973e229b241cfb2f2bc883d291c47",
       "version_major": 2,
       "version_minor": 0
      },
      "text/plain": [
       "config.json:   0%|          | 0.00/480 [00:00<?, ?B/s]"
      ]
     },
     "metadata": {},
     "output_type": "display_data"
    },
    {
     "data": {
      "application/vnd.jupyter.widget-view+json": {
       "model_id": "808c979e56ab40d8a26111fefc6d570a",
       "version_major": 2,
       "version_minor": 0
      },
      "text/plain": [
       "model.safetensors:   0%|          | 0.00/331M [00:00<?, ?B/s]"
      ]
     },
     "metadata": {},
     "output_type": "display_data"
    },
    {
     "name": "stderr",
     "output_type": "stream",
     "text": [
      "Some weights of the model checkpoint at distilbert/distilroberta-base were not used when initializing RobertaForMaskedLM: ['roberta.pooler.dense.bias', 'roberta.pooler.dense.weight']\n",
      "- This IS expected if you are initializing RobertaForMaskedLM from the checkpoint of a model trained on another task or with another architecture (e.g. initializing a BertForSequenceClassification model from a BertForPreTraining model).\n",
      "- This IS NOT expected if you are initializing RobertaForMaskedLM from the checkpoint of a model that you expect to be exactly identical (initializing a BertForSequenceClassification model from a BertForSequenceClassification model).\n"
     ]
    },
    {
     "data": {
      "application/vnd.jupyter.widget-view+json": {
       "model_id": "24eaaa608ec44ad6871a8515676a50a5",
       "version_major": 2,
       "version_minor": 0
      },
      "text/plain": [
       "tokenizer_config.json:   0%|          | 0.00/25.0 [00:00<?, ?B/s]"
      ]
     },
     "metadata": {},
     "output_type": "display_data"
    },
    {
     "data": {
      "application/vnd.jupyter.widget-view+json": {
       "model_id": "87e89baba1e74a358f3450554986e4b5",
       "version_major": 2,
       "version_minor": 0
      },
      "text/plain": [
       "vocab.json:   0%|          | 0.00/899k [00:00<?, ?B/s]"
      ]
     },
     "metadata": {},
     "output_type": "display_data"
    },
    {
     "data": {
      "application/vnd.jupyter.widget-view+json": {
       "model_id": "8061ea665405423f81093f8fea25163c",
       "version_major": 2,
       "version_minor": 0
      },
      "text/plain": [
       "merges.txt:   0%|          | 0.00/456k [00:00<?, ?B/s]"
      ]
     },
     "metadata": {},
     "output_type": "display_data"
    },
    {
     "data": {
      "application/vnd.jupyter.widget-view+json": {
       "model_id": "68de85ec0ee5449bbdaec781a5de2ca8",
       "version_major": 2,
       "version_minor": 0
      },
      "text/plain": [
       "tokenizer.json:   0%|          | 0.00/1.36M [00:00<?, ?B/s]"
      ]
     },
     "metadata": {},
     "output_type": "display_data"
    }
   ],
   "source": [
    "mlm = pipeline('fill-mask', device=device)"
   ]
  },
  {
   "cell_type": "code",
   "execution_count": 6,
   "id": "ee5b470c-4124-4282-bd98-d61f4737c9cc",
   "metadata": {},
   "outputs": [
    {
     "data": {
      "text/plain": [
       "[{'score': 0.10449142009019852,\n",
       "  'token': 13855,\n",
       "  'token_str': ' jumps',\n",
       "  'sequence': 'The cat jumps over the box'},\n",
       " {'score': 0.057583652436733246,\n",
       "  'token': 33265,\n",
       "  'token_str': ' crawling',\n",
       "  'sequence': 'The cat crawling over the box'},\n",
       " {'score': 0.04840477555990219,\n",
       "  'token': 33189,\n",
       "  'token_str': ' leaping',\n",
       "  'sequence': 'The cat leaping over the box'},\n",
       " {'score': 0.04716692492365837,\n",
       "  'token': 10907,\n",
       "  'token_str': ' climbing',\n",
       "  'sequence': 'The cat climbing over the box'},\n",
       " {'score': 0.03080764412879944,\n",
       "  'token': 32564,\n",
       "  'token_str': ' leaps',\n",
       "  'sequence': 'The cat leaps over the box'}]"
      ]
     },
     "metadata": {},
     "output_type": "display_data"
    }
   ],
   "source": [
    "display((mlm('The cat <mask> over the box')))"
   ]
  },
  {
   "cell_type": "code",
   "execution_count": 13,
   "id": "57b358f9-a8d5-46b4-b2b2-7d63b0241393",
   "metadata": {},
   "outputs": [
    {
     "data": {
      "text/html": [
       "<div>\n",
       "<style scoped>\n",
       "    .dataframe tbody tr th:only-of-type {\n",
       "        vertical-align: middle;\n",
       "    }\n",
       "\n",
       "    .dataframe tbody tr th {\n",
       "        vertical-align: top;\n",
       "    }\n",
       "\n",
       "    .dataframe thead th {\n",
       "        text-align: right;\n",
       "    }\n",
       "</style>\n",
       "<table border=\"1\" class=\"dataframe\">\n",
       "  <thead>\n",
       "    <tr style=\"text-align: right;\">\n",
       "      <th></th>\n",
       "      <th>text</th>\n",
       "      <th>labels</th>\n",
       "    </tr>\n",
       "  </thead>\n",
       "  <tbody>\n",
       "    <tr>\n",
       "      <th>0</th>\n",
       "      <td>Ad sales boost Time Warner profit\\n\\nQuarterly...</td>\n",
       "      <td>business</td>\n",
       "    </tr>\n",
       "    <tr>\n",
       "      <th>1</th>\n",
       "      <td>Dollar gains on Greenspan speech\\n\\nThe dollar...</td>\n",
       "      <td>business</td>\n",
       "    </tr>\n",
       "    <tr>\n",
       "      <th>2</th>\n",
       "      <td>Yukos unit buyer faces loan claim\\n\\nThe owner...</td>\n",
       "      <td>business</td>\n",
       "    </tr>\n",
       "    <tr>\n",
       "      <th>3</th>\n",
       "      <td>High fuel prices hit BA's profits\\n\\nBritish A...</td>\n",
       "      <td>business</td>\n",
       "    </tr>\n",
       "    <tr>\n",
       "      <th>4</th>\n",
       "      <td>Pernod takeover talk lifts Domecq\\n\\nShares in...</td>\n",
       "      <td>business</td>\n",
       "    </tr>\n",
       "  </tbody>\n",
       "</table>\n",
       "</div>"
      ],
      "text/plain": [
       "                                                text    labels\n",
       "0  Ad sales boost Time Warner profit\\n\\nQuarterly...  business\n",
       "1  Dollar gains on Greenspan speech\\n\\nThe dollar...  business\n",
       "2  Yukos unit buyer faces loan claim\\n\\nThe owner...  business\n",
       "3  High fuel prices hit BA's profits\\n\\nBritish A...  business\n",
       "4  Pernod takeover talk lifts Domecq\\n\\nShares in...  business"
      ]
     },
     "metadata": {},
     "output_type": "display_data"
    },
    {
     "name": "stdout",
     "output_type": "stream",
     "text": [
      "['business' 'entertainment' 'politics' 'sport' 'tech']\n",
      "510\n",
      "Japan narrowly escapes recession\n",
      "\n",
      "Japan's economy teetered on the brink of a technical recession in the three months to September, figures show.\n",
      "\n",
      "Revised figures indicated growth of just 0.1% - and a similar-sized contraction in the previous quarter. On an annual basis, the data suggests annual growth of just 0.2%, suggesting a much more hesitant recovery than had previously been thought. A common technical definition of a recession is two successive quarters of negative growth.\n",
      "\n",
      "The government was keen to play down the worrying implications of the data. \"I maintain the view that Japan's economy remains in a minor adjustment phase in an upward climb, and we will monitor developments carefully,\" said economy minister Heizo Takenaka. But in the face of the strengthening yen making exports less competitive and indications of weakening economic conditions ahead, observers were less sanguine. \"It's painting a picture of a recovery... much patchier than previously thought,\" said Paul Sheard, economist at Lehman Brothers in Tokyo. Improvements in the job market apparently have yet to feed through to domestic demand, with private consumption up just 0.2% in the third quarter.\n"
     ]
    }
   ],
   "source": [
    "df = pd.read_csv(csv_file)\n",
    "display(df.head())\n",
    "print(df['labels'].unique())\n",
    "\n",
    "# Pick a label\n",
    "label = 'business'\n",
    "texts = df.loc[df['labels'] == label, 'text']\n",
    "print(len(texts))\n",
    "print(texts[5])"
   ]
  },
  {
   "cell_type": "code",
   "execution_count": 30,
   "id": "0bba8580-42a8-4821-96b5-d11e74e13ec8",
   "metadata": {},
   "outputs": [
    {
     "name": "stdout",
     "output_type": "stream",
     "text": [
      "EU aiming to fuel development aid\n",
      "\n",
      "European Union finance ministers\n",
      "meet on Thursday to discuss proposals, including a tax on jet fuel, to\n",
      "boost development aid for poorer nations.\n",
      "\n",
      "The policy makers are to\n",
      "ask for a report into how more development money can be raised, the EU\n",
      "said.  The world's richest countries have said they want to increase\n",
      "the amount of aid they give to 0.7% of their annual gross national\n",
      "income by 2015. Airlines have reacted strongly against the proposed\n",
      "fuel levy.\n",
      "\n",
      "Profits have been under pressure in the airline industry,\n",
      "with low-cost firms driving down prices and demand dipping after the\n",
      "11 September terrorist attacks and the outbreak of the killer SARS\n",
      "virus.\n",
      "\n",
      "Things have picked up, but some European and US companies are\n",
      "teetering on the brink of bankruptcy.  At present, the fuel used by\n",
      "airlines enjoys either a very low tax rate or is untaxed in EU member\n",
      "states.  \"Of course we applaud humanitarian initiatives, but why\n",
      "target the airlines?\"  said Ulrich Schulte-Strathaus, secretary\n",
      "general of the Association of European Airlines.  \"Our industry is in\n",
      "the midst of a fundamental crisis...only to be once again confronted\n",
      "with a measure designed to increase our costs,\" he continued.\n",
      "\n",
      "The EU\n",
      "sought to allay the airlines' fears, stressing that Thursday's meeting\n",
      "was only a first step and that other proposals were also under\n",
      "consideration.  It added that any plan to levy taxes on jet fuel\n",
      "\"should not hinder the competitiveness of the airlines and that they\n",
      "themselves will not be solely funding development\". Any tax would only\n",
      "be implemented after full consultation with the airlines, the EU said.\n",
      "There is thought to be widespread support for the plan - tabled by\n",
      "France and Germany following the recent G7 meeting of the world's\n",
      "richest nations - from EU ministers.  The issue of poverty in Africa\n",
      "and South Asia has forced itself to the top of the politicial agenda,\n",
      "with politicians and campaigners calling for more to be done.  At\n",
      "their meeting in London, G7 finance ministers backed plans to write\n",
      "off up to 100% of the debts of some of the world's poorest countries.\n"
     ]
    }
   ],
   "source": [
    "np.random.seed(1234)\n",
    "doc = np.random.choice(texts, size=1, replace=False)[0]\n",
    "print(wrap(doc))"
   ]
  },
  {
   "cell_type": "code",
   "execution_count": 26,
   "id": "efe0edcb-b262-4ff0-80cb-05181694b200",
   "metadata": {},
   "outputs": [
    {
     "data": {
      "text/plain": [
       "[{'score': 0.08735514432191849,\n",
       "  'token': 4026,\n",
       "  'token_str': ' agenda',\n",
       "  'sequence': 'EU aiming to fuel development agenda'},\n",
       " {'score': 0.08316706866025925,\n",
       "  'token': 8600,\n",
       "  'token_str': ' boom',\n",
       "  'sequence': 'EU aiming to fuel development boom'},\n",
       " {'score': 0.05308239907026291,\n",
       "  'token': 1042,\n",
       "  'token_str': ' costs',\n",
       "  'sequence': 'EU aiming to fuel development costs'},\n",
       " {'score': 0.03144887089729309,\n",
       "  'token': 4,\n",
       "  'token_str': '.',\n",
       "  'sequence': 'EU aiming to fuel development.'},\n",
       " {'score': 0.02905908413231373,\n",
       "  'token': 1170,\n",
       "  'token_str': ' efforts',\n",
       "  'sequence': 'EU aiming to fuel development efforts'}]"
      ]
     },
     "execution_count": 26,
     "metadata": {},
     "output_type": "execute_result"
    }
   ],
   "source": [
    "mlm('EU aiming to fuel development <mask>')"
   ]
  }
 ],
 "metadata": {
  "kernelspec": {
   "display_name": "Python 3 (ipykernel)",
   "language": "python",
   "name": "python3"
  },
  "language_info": {
   "codemirror_mode": {
    "name": "ipython",
    "version": 3
   },
   "file_extension": ".py",
   "mimetype": "text/x-python",
   "name": "python",
   "nbconvert_exporter": "python",
   "pygments_lexer": "ipython3",
   "version": "3.11.8"
  }
 },
 "nbformat": 4,
 "nbformat_minor": 5
}
